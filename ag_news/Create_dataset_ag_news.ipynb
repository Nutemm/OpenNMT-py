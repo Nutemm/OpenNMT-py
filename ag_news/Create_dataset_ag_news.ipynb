{
 "cells": [
  {
   "cell_type": "code",
   "execution_count": 1,
   "metadata": {},
   "outputs": [],
   "source": [
    "import pandas as pd\n",
    "from nltk.tokenize import word_tokenize\n",
    "import re\n"
   ]
  },
  {
   "cell_type": "code",
   "execution_count": 2,
   "metadata": {},
   "outputs": [],
   "source": [
    "train_examples = pd.read_csv(\"train.csv\", names=['class', 'title', 'text'])"
   ]
  },
  {
   "cell_type": "code",
   "execution_count": 3,
   "metadata": {},
   "outputs": [],
   "source": [
    "test_examples = pd.read_csv(\"test.csv\", names=['class', 'title', 'text'])"
   ]
  },
  {
   "cell_type": "code",
   "execution_count": 4,
   "metadata": {},
   "outputs": [],
   "source": [
    "#train_examples[train_examples['3']==2]"
   ]
  },
  {
   "cell_type": "markdown",
   "metadata": {},
   "source": [
    "### CREATE DATASET FOR OPEN-NMT"
   ]
  },
  {
   "cell_type": "code",
   "execution_count": 5,
   "metadata": {},
   "outputs": [],
   "source": [
    "train_examples = train_examples.sample(frac=1)"
   ]
  },
  {
   "cell_type": "code",
   "execution_count": 6,
   "metadata": {},
   "outputs": [],
   "source": [
    "examples = pd.concat([train_examples, test_examples])"
   ]
  },
  {
   "cell_type": "code",
   "execution_count": 7,
   "metadata": {},
   "outputs": [],
   "source": [
    "classes = list(examples['class'])\n",
    "titles = list(examples['title'])\n",
    "texts = list(examples['text'])"
   ]
  },
  {
   "cell_type": "code",
   "execution_count": 8,
   "metadata": {},
   "outputs": [],
   "source": [
    "def remove_figures(sentence):\n",
    "    replaced = re.sub('[0-9]([0-9]|\\.|,|;| \\ [0-9])*', 'NUMTOKEN', sentence)\n",
    "    return replaced"
   ]
  },
  {
   "cell_type": "code",
   "execution_count": 9,
   "metadata": {},
   "outputs": [],
   "source": [
    "def clean_title(title):\n",
    "    title = title.replace(\"\\\\\", \" \")\n",
    "    title = remove_figures(title)\n",
    "    \n",
    "    #Remove last part of title (name of journal)\n",
    "    title = title.strip()\n",
    "    if title[-1] == ')':\n",
    "        position_left_parenthesis = title.rfind(\"(\")\n",
    "        title = title[:position_left_parenthesis]\n",
    "    title = title.lower()\n",
    "    title = \" \".join(word_tokenize(title))\n",
    "    title = title.replace(\"& lt ; b & gt ; ... & lt ; /b & gt ;\", \"\")\n",
    "    title = title.strip()\n",
    "\n",
    "    return title"
   ]
  },
  {
   "cell_type": "code",
   "execution_count": 10,
   "metadata": {},
   "outputs": [],
   "source": [
    "def clean_text(text):\n",
    "    text = text.replace(\"\\\\\", \" \")\n",
    "    text = text.replace('#39;s', \"'\")\n",
    "    text = remove_figures(text)\n",
    "\n",
    "    #Remove first part of text (name of journal or date)\n",
    "    text = text.split(\" - \",1)\n",
    "    if len(text)>1 and len(text[0]) < len(text[1]):\n",
    "        text = text[1]\n",
    "    else:\n",
    "        text = text[0]\n",
    "        \n",
    "    text = text.split(\" -- \",1)\n",
    "    if len(text)>1 and len(text[0]) < len(text[1]):\n",
    "        text = text[1]\n",
    "    else:\n",
    "        text = text[0]\n",
    "    \n",
    "    text = text.lower()\n",
    "    text = \" \".join(word_tokenize(text))\n",
    "    text = text.replace(\"#\", \"\")\n",
    "    text = text.replace(\"& lt ;\", \" \")\n",
    "    text = text.replace(\"& gt ;\", \" \")\n",
    "    return text"
   ]
  },
  {
   "cell_type": "code",
   "execution_count": 11,
   "metadata": {},
   "outputs": [],
   "source": [
    "titles = [clean_title(title) for title in titles]"
   ]
  },
  {
   "cell_type": "code",
   "execution_count": 12,
   "metadata": {},
   "outputs": [],
   "source": [
    "texts = [clean_text(text) for text in texts]"
   ]
  },
  {
   "cell_type": "code",
   "execution_count": 13,
   "metadata": {},
   "outputs": [],
   "source": [
    "sentences = [titles[i]+\" SEPTOKEN \"+ texts[i] for i in range(len(titles))]"
   ]
  },
  {
   "cell_type": "code",
   "execution_count": 14,
   "metadata": {
    "scrolled": false
   },
   "outputs": [],
   "source": [
    "# sentences[:100]"
   ]
  },
  {
   "cell_type": "code",
   "execution_count": 15,
   "metadata": {},
   "outputs": [],
   "source": [
    "validation_sentences = sentences[:6000]\n",
    "validation_labels = classes[:6000]\n",
    "\n",
    "train_sentences = sentences[6000:120000]\n",
    "train_labels = classes[6000:120000]\n",
    "\n",
    "test_sentences = sentences[120000:]\n",
    "test_labels = classes[120000:]"
   ]
  },
  {
   "cell_type": "code",
   "execution_count": 16,
   "metadata": {},
   "outputs": [
    {
     "data": {
      "text/plain": [
       "7600"
      ]
     },
     "execution_count": 16,
     "metadata": {},
     "output_type": "execute_result"
    }
   ],
   "source": [
    "len(test_sentences)"
   ]
  },
  {
   "cell_type": "code",
   "execution_count": 17,
   "metadata": {},
   "outputs": [],
   "source": [
    "import os\n",
    "\n",
    "directory = [\"ag_news_full\", \"ag_news_debug\"]\n",
    "\n",
    "\n",
    "for i in range(2):\n",
    "    \n",
    "    if i==1:\n",
    "        train_sentences = train_sentences[:5000]\n",
    "        train_labels = train_labels[:5000]\n",
    "        validation_sentences = train_sentences[:5000]\n",
    "        validation_labels = train_labels[:5000]\n",
    "    \n",
    "    name_dir = directory[i]\n",
    "    if not os.path.exists(name_dir):\n",
    "        os.makedirs(name_dir)\n",
    "\n",
    "    with open(os.path.join(name_dir, \"src_train.txt\"), 'w') as f:\n",
    "        for line in train_sentences:\n",
    "            f.write(line+'\\n')\n",
    "        \n",
    "    with open(os.path.join(name_dir, \"src_val.txt\"), 'w') as f:\n",
    "        for line in validation_sentences:\n",
    "            f.write(line+'\\n')\n",
    "        \n",
    "    with open(os.path.join(name_dir, \"tgt_train.txt\"), 'w') as f:\n",
    "        for line in train_labels:\n",
    "            f.write(str(line)+'\\n')\n",
    "        \n",
    "    with open(os.path.join(name_dir, \"tgt_val.txt\"), 'w') as f:\n",
    "        for line in validation_labels:\n",
    "            f.write(str(line)+'\\n')"
   ]
  },
  {
   "cell_type": "code",
   "execution_count": 18,
   "metadata": {},
   "outputs": [],
   "source": [
    "name_dir = \"ag_news_full\"\n",
    "\n",
    "with open(os.path.join(name_dir, \"src_test.txt\"), 'w') as f:\n",
    "    for line in test_sentences:\n",
    "        f.write(line+'\\n')\n",
    "\n",
    "        \n",
    "with open(os.path.join(name_dir, \"tgt_test.txt\"), 'w') as f:\n",
    "    for line in test_labels:\n",
    "        f.write(str(line)+'\\n')"
   ]
  }
 ],
 "metadata": {
  "kernelspec": {
   "display_name": "Python 3",
   "language": "python",
   "name": "python3"
  },
  "language_info": {
   "codemirror_mode": {
    "name": "ipython",
    "version": 3
   },
   "file_extension": ".py",
   "mimetype": "text/x-python",
   "name": "python",
   "nbconvert_exporter": "python",
   "pygments_lexer": "ipython3",
   "version": "3.7.2"
  }
 },
 "nbformat": 4,
 "nbformat_minor": 2
}
