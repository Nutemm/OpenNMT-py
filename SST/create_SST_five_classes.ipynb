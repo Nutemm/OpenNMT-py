{
 "cells": [
  {
   "cell_type": "code",
   "execution_count": 1,
   "metadata": {},
   "outputs": [],
   "source": [
    "import numpy as np\n",
    "import pandas as pd\n",
    "from nltk.tokenize import word_tokenize\n",
    "import re"
   ]
  },
  {
   "cell_type": "code",
   "execution_count": 2,
   "metadata": {},
   "outputs": [],
   "source": [
    "#Get all sentences\n",
    "dataset_sentence = [\" \".join(line.split(\"|\"))[:-1] for line in open('SOStr.txt')]\n",
    "sentences = [sent for sent in dataset_sentence]\n",
    "\n",
    "#Get from phrase to phrase id\n",
    "dataset_phrase_id = pd.read_csv('dictionary.txt', sep='|', names = [\"phrase\", \"id\"])\n",
    "dict_phrase_id = dict([[row['phrase'], row['id']] for _,row in dataset_phrase_id.iterrows()])\n",
    "\n",
    "#Get from phrase id to sentiment score\n",
    "sentiment_phrases = pd.read_csv('sentiment_labels.txt', sep='|')\n",
    "dict_id_sentiment = dict([[int(row['phrase ids']), row['sentiment values']] for _,row in sentiment_phrases.iterrows()])\n",
    "sentence_sentiment = [[sentence, dict_id_sentiment[dict_phrase_id[sentence]]] for sentence in sentences]\n",
    "\n"
   ]
  },
  {
   "cell_type": "code",
   "execution_count": 3,
   "metadata": {},
   "outputs": [],
   "source": [
    "dataset_split = pd.read_csv('datasetSplit.txt', sep=',')\n",
    "splitset_label = list(dataset_split['splitset_label'])"
   ]
  },
  {
   "cell_type": "code",
   "execution_count": 4,
   "metadata": {},
   "outputs": [],
   "source": [
    "src_train = [sentence_sentiment[i][0] for i in range(len(splitset_label)) if splitset_label[i] == 1]\n",
    "tgt_train = [sentence_sentiment[i][1] for i in range(len(splitset_label)) if splitset_label[i] == 1]\n",
    "\n",
    "src_test = [sentence_sentiment[i][0] for i in range(len(splitset_label)) if splitset_label[i] == 2]\n",
    "tgt_test = [sentence_sentiment[i][1] for i in range(len(splitset_label)) if splitset_label[i] == 2]\n",
    "\n",
    "src_val = [sentence_sentiment[i][0] for i in range(len(splitset_label)) if splitset_label[i] == 3]\n",
    "tgt_val = [sentence_sentiment[i][1] for i in range(len(splitset_label)) if splitset_label[i] == 3]\n"
   ]
  },
  {
   "cell_type": "code",
   "execution_count": 5,
   "metadata": {},
   "outputs": [],
   "source": [
    "#Binarize\n",
    "tgt_sets = [tgt_train, tgt_test, tgt_val]\n",
    "\n",
    "for l in tgt_sets:\n",
    "    for i in range(len(l)):\n",
    "        l[i] = int(l[i]*5)+1"
   ]
  },
  {
   "cell_type": "code",
   "execution_count": 6,
   "metadata": {},
   "outputs": [],
   "source": [
    "def remove_figures(sentence):\n",
    "    replaced = re.sub('[0-9]([0-9]|\\.|,|;| \\ [0-9])*', 'NUMTOKEN', sentence)\n",
    "    return replaced\n",
    "\n",
    "def clean_text(text):\n",
    "    text = text.lower()\n",
    "    text = \" \".join(word_tokenize(text))\n",
    "    text = remove_figures(text)\n",
    "    return text\n",
    "\n",
    "#Clean texts\n",
    "src_sets = [src_train, src_test, src_val]\n",
    "\n",
    "for l in src_sets:\n",
    "    for i in range(len(l)):\n",
    "        l[i] = clean_text(l[i])"
   ]
  },
  {
   "cell_type": "code",
   "execution_count": 7,
   "metadata": {},
   "outputs": [],
   "source": [
    "file_contents = [src_train, tgt_train, src_test, tgt_test, src_val, tgt_val]\n",
    "file_names = ['src_train', 'tgt_train', 'src_test', 'tgt_test', 'src_val', 'tgt_val']\n",
    "\n",
    "for i in range(len(file_contents)):\n",
    "    with open(file_names[i]+\".txt\", 'w') as f:\n",
    "        for line in file_contents[i]:\n",
    "            f.write(str(line)+\"\\n\")\n",
    "\n"
   ]
  },
  {
   "cell_type": "markdown",
   "metadata": {},
   "source": [
    "### CHARACTER LEVEL"
   ]
  },
  {
   "cell_type": "code",
   "execution_count": 8,
   "metadata": {},
   "outputs": [],
   "source": [
    "char_src_train = []\n",
    "char_src_test = [] \n",
    "char_src_val = []\n",
    "\n",
    "src_sets = [src_train, src_test, src_val]\n",
    "char_src_sets = [char_src_train, char_src_test, char_src_val]\n",
    "\n",
    "for i in range(len(src_sets)):\n",
    "    for sent in src_sets[i]:\n",
    "        char_sent = \" \".join(sent).replace(\"N U M T O K E N\", \"NUMTOKEN\").replace(\"   \", \" SP \")\n",
    "        char_src_sets[i].append(char_sent)\n",
    "    "
   ]
  },
  {
   "cell_type": "code",
   "execution_count": 9,
   "metadata": {},
   "outputs": [],
   "source": [
    "file_contents = [char_src_train, char_src_test, char_src_val]\n",
    "file_names = ['char_src_train', 'char_src_test', 'char_src_val']\n",
    "\n",
    "import os\n",
    "if not os.path.exists('char'):\n",
    "    os.makedirs('char')\n",
    "\n",
    "for i in range(len(file_contents)):\n",
    "    with open('char/'+file_names[i]+\".txt\", 'w') as f:\n",
    "        for line in file_contents[i]:\n",
    "            f.write(str(line)+\"\\n\")"
   ]
  }
 ],
 "metadata": {
  "kernelspec": {
   "display_name": "Python 3",
   "language": "python",
   "name": "python3"
  },
  "language_info": {
   "codemirror_mode": {
    "name": "ipython",
    "version": 3
   },
   "file_extension": ".py",
   "mimetype": "text/x-python",
   "name": "python",
   "nbconvert_exporter": "python",
   "pygments_lexer": "ipython3",
   "version": "3.7.2"
  }
 },
 "nbformat": 4,
 "nbformat_minor": 2
}
